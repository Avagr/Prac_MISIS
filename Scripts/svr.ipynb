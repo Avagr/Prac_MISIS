{
 "cells": [
  {
   "cell_type": "code",
   "execution_count": 1,
   "metadata": {
    "collapsed": true
   },
   "outputs": [],
   "source": [
    "import numpy as np\n",
    "import os\n",
    "\n",
    "from Scripts.data_preparation import DataExtractor\n",
    "from nn_training import set_random_seed\n",
    "from sklearn.model_selection import KFold\n",
    "from sklearn.metrics import mean_squared_error, r2_score\n",
    "from sklearn.svm import SVR\n",
    "from sklearn.preprocessing import StandardScaler\n",
    "\n",
    "\n",
    "run_config = {\n",
    "    'hidden_sizes': [100, 50, 50],\n",
    "    'lr': 3e-5,\n",
    "    'weight_decay': 0,\n",
    "    'batch_size': 128\n",
    "}\n",
    "\n",
    "set_random_seed(57)\n"
   ]
  },
  {
   "cell_type": "code",
   "execution_count": 2,
   "outputs": [],
   "source": [
    "data_dir = '../Data/'\n",
    "\n",
    "extractor = DataExtractor()\n",
    "\n",
    "for base_element in ('Ti', 'Zr'):\n",
    "    files_dir = os.path.join(data_dir, base_element)\n",
    "    for file in os.listdir(files_dir):\n",
    "        if file.endswith('.dat'):\n",
    "            extractor.read_file(files_dir, file, 2, base_element)\n",
    "        elif file.endswith('.unalloyed'):\n",
    "            extractor.read_file(files_dir, file, 1, base_element)\n",
    "files_dir = os.path.join(data_dir, 'Ternary')\n",
    "for file in os.listdir(files_dir):\n",
    "    if file.endswith('.dat'):\n",
    "        extractor.read_file(files_dir, file, num_elements=3, base_element='Ti')"
   ],
   "metadata": {
    "collapsed": false
   }
  },
  {
   "cell_type": "code",
   "execution_count": 3,
   "outputs": [],
   "source": [
    "data = extractor.dataframe"
   ],
   "metadata": {
    "collapsed": false
   }
  },
  {
   "cell_type": "code",
   "execution_count": 4,
   "outputs": [],
   "source": [
    "features = data.apply(extractor.extract_properties, axis=1, result_type='expand').to_numpy()\n",
    "target = data['a'].to_numpy()"
   ],
   "metadata": {
    "collapsed": false
   }
  },
  {
   "cell_type": "code",
   "execution_count": 5,
   "outputs": [
    {
     "name": "stdout",
     "output_type": "stream",
     "text": [
      "A MSE Train: 0.003±0.000\n",
      "A MSE Test:  0.003±0.000\n",
      "A R^2 Train: 0.832±0.005\n",
      "A R^2 Test:  0.825±0.019\n"
     ]
    }
   ],
   "source": [
    "cv_mse_train = []\n",
    "cv_mse_test = []\n",
    "cv_r2_train = []\n",
    "cv_r2_test = []\n",
    "\n",
    "for train_index, test_index in KFold(n_splits=5, shuffle=True, random_state=57).split(features):\n",
    "    features_train, features_test = features[train_index], features[test_index]\n",
    "    target_train, target_test = target[train_index], target[test_index]\n",
    "\n",
    "    scaler = StandardScaler().fit(features_train)\n",
    "\n",
    "    scaled_features_train = scaler.transform(features_train)\n",
    "    scaled_features_test = scaler.transform(features_test)\n",
    "\n",
    "    svr = SVR(kernel='rbf').fit(scaled_features_train, target_train)\n",
    "    res_train = svr.predict(scaled_features_train)\n",
    "    res_test = svr.predict(scaled_features_test)\n",
    "    cv_mse_train.append(mean_squared_error(target_train, res_train))\n",
    "    cv_mse_test.append(mean_squared_error(target_test, res_test))\n",
    "    cv_r2_train.append(r2_score(target_train, res_train))\n",
    "    cv_r2_test.append(r2_score(target_test, res_test))\n",
    "\n",
    "print(f\"A MSE Train: {np.mean(cv_mse_train):.3f}±{np.std(cv_mse_train):.3f}\\n\"\n",
    "      f\"A MSE Test:  {np.mean(cv_mse_test):.3f}±{np.std(cv_mse_test):.3f}\")\n",
    "print(f\"A R^2 Train: {np.mean(cv_r2_train):.3f}±{np.std(cv_r2_train):.3f}\\n\"\n",
    "      f\"A R^2 Test:  {np.mean(cv_r2_test):.3f}±{np.std(cv_r2_test):.3f}\")"
   ],
   "metadata": {
    "collapsed": false
   }
  },
  {
   "cell_type": "code",
   "execution_count": 7,
   "outputs": [
    {
     "name": "stdout",
     "output_type": "stream",
     "text": [
      "E MSE Train: 832.522±48.554\n",
      "E MSE Test:  859.527±230.423\n",
      "E R^2 Train: 0.280±0.017\n",
      "E R^2 Test:  0.265±0.077\n"
     ]
    }
   ],
   "source": [
    "features = data.apply(extractor.extract_properties, axis=1, result_type='expand').to_numpy()\n",
    "target = data['e'].to_numpy()\n",
    "\n",
    "cv_mse_train = []\n",
    "cv_mse_test = []\n",
    "cv_r2_train = []\n",
    "cv_r2_test = []\n",
    "\n",
    "for train_index, test_index in KFold(n_splits=5, shuffle=True, random_state=57).split(features):\n",
    "    features_train, features_test = features[train_index], features[test_index]\n",
    "    target_train, target_test = target[train_index], target[test_index]\n",
    "\n",
    "    scaler = StandardScaler().fit(features_train)\n",
    "\n",
    "    scaled_features_train = scaler.transform(features_train)\n",
    "    scaled_features_test = scaler.transform(features_test)\n",
    "\n",
    "    svr = SVR(kernel='rbf').fit(scaled_features_train, target_train)\n",
    "    res_train = svr.predict(scaled_features_train)\n",
    "    res_test = svr.predict(scaled_features_test)\n",
    "    cv_mse_train.append(mean_squared_error(target_train, res_train))\n",
    "    cv_mse_test.append(mean_squared_error(target_test, res_test))\n",
    "    cv_r2_train.append(r2_score(target_train, res_train))\n",
    "    cv_r2_test.append(r2_score(target_test, res_test))\n",
    "\n",
    "print(f\"E MSE Train: {np.mean(cv_mse_train):.3f}±{np.std(cv_mse_train):.3f}\\n\"\n",
    "      f\"E MSE Test:  {np.mean(cv_mse_test):.3f}±{np.std(cv_mse_test):.3f}\")\n",
    "print(f\"E R^2 Train: {np.mean(cv_r2_train):.3f}±{np.std(cv_r2_train):.3f}\\n\"\n",
    "      f\"E R^2 Test:  {np.mean(cv_r2_test):.3f}±{np.std(cv_r2_test):.3f}\")"
   ],
   "metadata": {
    "collapsed": false
   }
  }
 ],
 "metadata": {
  "kernelspec": {
   "display_name": "Python 3",
   "language": "python",
   "name": "python3"
  },
  "language_info": {
   "codemirror_mode": {
    "name": "ipython",
    "version": 2
   },
   "file_extension": ".py",
   "mimetype": "text/x-python",
   "name": "python",
   "nbconvert_exporter": "python",
   "pygments_lexer": "ipython2",
   "version": "2.7.6"
  }
 },
 "nbformat": 4,
 "nbformat_minor": 0
}
